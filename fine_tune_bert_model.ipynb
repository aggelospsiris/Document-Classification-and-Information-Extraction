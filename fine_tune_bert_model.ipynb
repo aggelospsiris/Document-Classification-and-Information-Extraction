{
 "cells": [
  {
   "cell_type": "markdown",
   "metadata": {},
   "source": [
    "## Fine-tune Bert model "
   ]
  },
  {
   "cell_type": "code",
   "execution_count": 23,
   "metadata": {},
   "outputs": [
    {
     "name": "stdout",
     "output_type": "stream",
     "text": [
      "BERT training text file created successfully at outputs/bert_preprocessed_training_texts.txt\n"
     ]
    }
   ],
   "source": [
    "import json\n",
    "\n",
    "# Load the preprocessed data from the JSON file\n",
    "preprocessed_file_path = 'outputs/extracted_information.json'  # Replace with your file path\n",
    "with open(preprocessed_file_path, 'r', encoding='utf-8') as f:\n",
    "    preprocessed_data = json.load(f)\n",
    "\n",
    "# Function to preprocess text to ensure it is clean for training\n",
    "def preprocess_text(text):\n",
    "    if isinstance(text, str):  # Check if text is a string before processing\n",
    "        text = text.strip()  # Remove leading and trailing whitespace\n",
    "    return text\n",
    "\n",
    "# Open the output text file for writing\n",
    "training_output_file_path = 'outputs/bert_preprocessed_training_texts.txt'  # Replace with your desired file path\n",
    "with open(training_output_file_path, 'w', encoding='utf-8') as f:\n",
    "    # Loop through each entry in the data and extract Title, Abstract, and Keywords\n",
    "    for table in preprocessed_data['tables']:\n",
    "        title = preprocess_text(table.get('Title', ''))\n",
    "        abstract = preprocess_text(table.get('Abstract', ''))\n",
    "        keywords = preprocess_text(table.get('Keywords', ''))\n",
    "\n",
    "        # Combine the Title, Abstract, and Keywords into a single text entry\n",
    "        combined_text = f\"Title: {title}\\nAbstract: {abstract}\\nKeywords: {keywords}\\n\\n\"\n",
    "\n",
    "        # Write the combined text to the output file\n",
    "        f.write(combined_text)\n",
    "\n",
    "print(f\"BERT training text file created successfully at {training_output_file_path}\")\n"
   ]
  },
  {
   "cell_type": "code",
   "execution_count": 7,
   "metadata": {},
   "outputs": [
    {
     "name": "stderr",
     "output_type": "stream",
     "text": [
      "c:\\Users\\dionusia\\AppData\\Local\\Programs\\Python\\Python37\\lib\\site-packages\\tqdm\\auto.py:21: TqdmWarning: IProgress not found. Please update jupyter and ipywidgets. See https://ipywidgets.readthedocs.io/en/stable/user_install.html\n",
      "  from .autonotebook import tqdm as notebook_tqdm\n"
     ]
    },
    {
     "name": "stdout",
     "output_type": "stream",
     "text": [
      "Downloading and preparing dataset text/default to C:/Users/dionusia/.cache/huggingface/datasets/text/default-af52c41c1bb4c6cf/0.0.0/cb1e9bd71a82ad27976be3b12b407850fe2837d80c22c5e03a28949843a8ace2...\n"
     ]
    },
    {
     "name": "stderr",
     "output_type": "stream",
     "text": [
      "Downloading data files: 100%|██████████| 1/1 [00:00<?, ?it/s]\n",
      "Extracting data files: 100%|██████████| 1/1 [00:00<00:00, 22.73it/s]\n",
      "                                                        \r"
     ]
    },
    {
     "name": "stdout",
     "output_type": "stream",
     "text": [
      "Dataset text downloaded and prepared to C:/Users/dionusia/.cache/huggingface/datasets/text/default-af52c41c1bb4c6cf/0.0.0/cb1e9bd71a82ad27976be3b12b407850fe2837d80c22c5e03a28949843a8ace2. Subsequent calls will reuse this data.\n"
     ]
    },
    {
     "name": "stderr",
     "output_type": "stream",
     "text": [
      "100%|██████████| 1/1 [00:00<00:00, 21.74it/s]\n",
      "Some weights of the model checkpoint at bert-base-uncased were not used when initializing BertForMaskedLM: ['cls.seq_relationship.bias', 'cls.seq_relationship.weight']\n",
      "- This IS expected if you are initializing BertForMaskedLM from the checkpoint of a model trained on another task or with another architecture (e.g. initializing a BertForSequenceClassification model from a BertForPreTraining model).\n",
      "- This IS NOT expected if you are initializing BertForMaskedLM from the checkpoint of a model that you expect to be exactly identical (initializing a BertForSequenceClassification model from a BertForSequenceClassification model).\n",
      "c:\\Users\\dionusia\\AppData\\Local\\Programs\\Python\\Python37\\lib\\site-packages\\transformers\\optimization.py:415: FutureWarning: This implementation of AdamW is deprecated and will be removed in a future version. Use the PyTorch implementation torch.optim.AdamW instead, or set `no_deprecation_warning=True` to disable this warning\n",
      "  FutureWarning,\n",
      " 27%|██▋       | 100/370 [37:14<1:55:24, 25.64s/it]"
     ]
    },
    {
     "name": "stdout",
     "output_type": "stream",
     "text": [
      "{'loss': 2.8675, 'learning_rate': 1.4594594594594596e-05, 'epoch': 2.7}\n"
     ]
    },
    {
     "name": "stderr",
     "output_type": "stream",
     "text": [
      " 54%|█████▍    | 200/370 [1:12:54<1:09:13, 24.43s/it]"
     ]
    },
    {
     "name": "stdout",
     "output_type": "stream",
     "text": [
      "{'loss': 2.469, 'learning_rate': 9.189189189189191e-06, 'epoch': 5.41}\n"
     ]
    },
    {
     "name": "stderr",
     "output_type": "stream",
     "text": [
      " 81%|████████  | 300/370 [1:53:42<26:25, 22.64s/it]  "
     ]
    },
    {
     "name": "stdout",
     "output_type": "stream",
     "text": [
      "{'loss': 2.3543, 'learning_rate': 3.7837837837837844e-06, 'epoch': 8.11}\n"
     ]
    },
    {
     "name": "stderr",
     "output_type": "stream",
     "text": [
      "100%|██████████| 370/370 [2:20:43<00:00, 22.82s/it]\n"
     ]
    },
    {
     "name": "stdout",
     "output_type": "stream",
     "text": [
      "{'train_runtime': 8443.5394, 'train_samples_per_second': 0.701, 'train_steps_per_second': 0.044, 'train_loss': 2.494269541147593, 'epoch': 10.0}\n",
      "Model training completed and saved to './fine_tuned_bert'\n"
     ]
    }
   ],
   "source": [
    "from transformers import BertTokenizer, BertForMaskedLM, Trainer, TrainingArguments, DataCollatorForLanguageModeling\n",
    "from datasets import load_dataset\n",
    "import os\n",
    "\n",
    "# Step 1: Load the preprocessed text data into a dataset\n",
    "dataset_path = 'outputs/bert_preprocessed_training_texts.txt'  # Replace with your file path\n",
    "\n",
    "# Load the dataset using Hugging Face's datasets library\n",
    "dataset = load_dataset('text', data_files={'train': dataset_path})\n",
    "\n",
    "# Step 2: Load the BERT tokenizer and model\n",
    "model_name = 'bert-base-uncased'  # You can change this to any other pre-trained BERT model if needed\n",
    "tokenizer = BertTokenizer.from_pretrained(model_name)\n",
    "model = BertForMaskedLM.from_pretrained(model_name)\n",
    "\n",
    "# Step 3: Tokenize the dataset\n",
    "def tokenize_function(examples):\n",
    "    return tokenizer(examples['text'], truncation=True, padding='max_length', max_length=128)\n",
    "\n",
    "# Tokenize the dataset\n",
    "tokenized_dataset = dataset.map(tokenize_function, batched=True, remove_columns=[\"text\"])\n",
    "\n",
    "# Step 4: Set up data collator for Masked Language Modeling (MLM)\n",
    "data_collator = DataCollatorForLanguageModeling(\n",
    "    tokenizer=tokenizer,\n",
    "    mlm=True,\n",
    "    mlm_probability=0.15  # 15% of tokens will be masked for prediction\n",
    ")\n",
    "\n",
    "# Step 5: Define training arguments for fine-tuning\n",
    "training_args = TrainingArguments(\n",
    "    output_dir='./fine_tuned_bert',  # Directory to save the model\n",
    "    overwrite_output_dir=True,\n",
    "    num_train_epochs=10,  # You can change the number of epochs based on your needs\n",
    "    per_device_train_batch_size=16,\n",
    "    save_steps=500,\n",
    "    save_total_limit=2,\n",
    "    logging_steps=100,\n",
    "    learning_rate=2e-5,\n",
    "    weight_decay=0.01,\n",
    "    evaluation_strategy='no'  # Use 'steps' if you have a validation set\n",
    ")\n",
    "\n",
    "# Step 6: Set up the Trainer for fine-tuning the BERT model\n",
    "trainer = Trainer(\n",
    "    model=model,\n",
    "    args=training_args,\n",
    "    data_collator=data_collator,\n",
    "    train_dataset=tokenized_dataset['train']\n",
    ")\n",
    "\n",
    "# Step 7: Fine-tune the model\n",
    "trainer.train()\n",
    "\n",
    "# Step 8: Save the fine-tuned model and tokenizer\n",
    "model.save_pretrained('./fine_tuned_bert')\n",
    "tokenizer.save_pretrained('./fine_tuned_bert')\n",
    "\n",
    "print(\"Model training completed and saved to './fine_tuned_bert'\")\n"
   ]
  }
 ],
 "metadata": {
  "kernelspec": {
   "display_name": "Python 3",
   "language": "python",
   "name": "python3"
  },
  "language_info": {
   "codemirror_mode": {
    "name": "ipython",
    "version": 3
   },
   "file_extension": ".py",
   "mimetype": "text/x-python",
   "name": "python",
   "nbconvert_exporter": "python",
   "pygments_lexer": "ipython3",
   "version": "3.7.9"
  }
 },
 "nbformat": 4,
 "nbformat_minor": 2
}
